{
 "cells": [
  {
   "cell_type": "code",
   "execution_count": 1,
   "metadata": {},
   "outputs": [],
   "source": [
    "import pandas as pd\n",
    "import numpy as np\n",
    "import matplotlib.pyplot as plt\n",
    "%matplotlib inline\n",
    "import seaborn as sns\n",
    "import statistics as stats\n",
    "from os import listdir\n",
    "from skimage import io, filters, color,exposure,feature,measure,segmentation\n",
    "from scipy import ndimage\n",
    "import cv2 \n",
    "import imutils\n",
    "import glob\n",
    "import sys\n",
    "sys.path.append('../scripts/')\n",
    "from nuclei_segmentation import nuclei_segmenter"
   ]
  },
  {
   "cell_type": "code",
   "execution_count": null,
   "metadata": {},
   "outputs": [],
   "source": [
    "seg = nuclei_segmenter(area_threshold=250,median_filter_param=0,cropped_flag=0)"
   ]
  },
  {
   "cell_type": "code",
   "execution_count": null,
   "metadata": {},
   "outputs": [],
   "source": [
    "Herlev_df_ext = pd.DataFrame()\n",
    "folders = listdir('../data/Herlev Database Pictures/')[1:]\n",
    "for folder in folders:\n",
    "    for blob in glob.glob('../data/Herlev Database Pictures/{}/*.BMP'.format(folder)):\n",
    "        df = seg.segment_nuclei(blob)\n",
    "        df['class'] = folder\n",
    "        if folder.startswith('normal'):\n",
    "            df['normal']=1\n",
    "        else:\n",
    "            df['normal']=0\n",
    "        Herlev_df_ext = Herlev_df_ext.append(df)"
   ]
  },
  {
   "cell_type": "code",
   "execution_count": null,
   "metadata": {},
   "outputs": [],
   "source": [
    "from sklearn.model_selection import train_test_split\n",
    "X = Herlev_df_ext.drop(['class','normal','ID'],axis=1)\n",
    "y = Herlev_df['normal']\n",
    "X_train, X_test, y_train, y_test = train_test_split(X, y, test_size=0.30,stratify=y)\n"
   ]
  },
  {
   "cell_type": "code",
   "execution_count": null,
   "metadata": {},
   "outputs": [],
   "source": [
    "from sklearn.ensemble import RandomForestClassifier\n",
    "from sklearn.datasets import make_classification\n",
    "X, y = make_classification(n_samples=1000, n_features=4,n_informative=2, n_redundant=0,random_state=0, shuffle=False)\n",
    "clf = RandomForestClassifier(max_depth=2, random_state=0)\n",
    "clf.fit(X_train, y_train)\n"
   ]
  },
  {
   "cell_type": "code",
   "execution_count": null,
   "metadata": {},
   "outputs": [],
   "source": [
    "from sklearn.metrics import classification_report,confusion_matrix"
   ]
  },
  {
   "cell_type": "code",
   "execution_count": null,
   "metadata": {},
   "outputs": [],
   "source": [
    "preds = clf.predict(X_test)\n",
    "print(classification_report(y_test,preds))"
   ]
  },
  {
   "cell_type": "code",
   "execution_count": null,
   "metadata": {},
   "outputs": [],
   "source": [
    "important_features_dict = {}\n",
    "for x,i in enumerate(clf.feature_importances_):\n",
    "    important_features_dict[list(X_train.keys())[x]]=i\n",
    "\n",
    "sorted_features = sorted(important_features_dict.items(), key=lambda kv: kv[1], reverse=True)\n",
    "from collections import OrderedDict\n",
    "OrderedDict(sorted_features)"
   ]
  },
  {
   "cell_type": "code",
   "execution_count": null,
   "metadata": {},
   "outputs": [],
   "source": [
    "#return image with suspicious nuclei flagged "
   ]
  }
 ],
 "metadata": {
  "kernelspec": {
   "display_name": "Python 3",
   "language": "python",
   "name": "python3"
  },
  "language_info": {
   "codemirror_mode": {
    "name": "ipython",
    "version": 3
   },
   "file_extension": ".py",
   "mimetype": "text/x-python",
   "name": "python",
   "nbconvert_exporter": "python",
   "pygments_lexer": "ipython3",
   "version": "3.7.9"
  }
 },
 "nbformat": 4,
 "nbformat_minor": 4
}
