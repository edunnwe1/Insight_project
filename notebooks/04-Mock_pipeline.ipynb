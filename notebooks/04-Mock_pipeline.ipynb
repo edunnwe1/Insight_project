{
 "cells": [
  {
   "cell_type": "code",
   "execution_count": 1,
   "metadata": {},
   "outputs": [],
   "source": [
    "import pandas as pd\n",
    "import numpy as np\n",
    "import matplotlib.pyplot as plt\n",
    "%matplotlib inline\n",
    "import seaborn as sns\n",
    "import statistics as stats\n",
    "from os import listdir\n",
    "from skimage import io, filters, color,exposure,feature,measure,segmentation\n",
    "from scipy import ndimage\n",
    "import cv2 \n",
    "import imutils\n",
    "import glob\n",
    "import sys\n",
    "sys.path.append('../scripts/')\n",
    "from nuclei_segmentation import nuclei_segmenter"
   ]
  },
  {
   "cell_type": "code",
   "execution_count": 2,
   "metadata": {},
   "outputs": [],
   "source": [
    "seg = nuclei_segmenter(area_threshold=250,p2a_threshold=0.25,solidity_threshold=0,median_filter_param=1,cropped_flag=1)\n",
    "# seg = nuclei_segmenter(area_threshold=250,median_filter_param=0,cropped_flag=0)"
   ]
  },
  {
   "cell_type": "code",
   "execution_count": 3,
   "metadata": {},
   "outputs": [],
   "source": [
    "Herlev_df_ext = pd.DataFrame()\n",
    "folders = listdir('../data/Herlev Database Pictures/')[1:]\n",
    "for folder in folders:\n",
    "    for blob in glob.glob('../data/Herlev Database Pictures/{}/*.BMP'.format(folder)):\n",
    "        df = seg.segment_nuclei(blob)\n",
    "        df['class'] = folder\n",
    "        if folder.startswith('normal'):\n",
    "            df['normal']=1\n",
    "        else:\n",
    "            df['normal']=0\n",
    "        Herlev_df_ext = Herlev_df_ext.append(df)"
   ]
  },
  {
   "cell_type": "code",
   "execution_count": 26,
   "metadata": {},
   "outputs": [],
   "source": [
    "from sklearn.model_selection import train_test_split\n",
    "X = Herlev_df_ext.drop(['class','normal','ctr_score','ID'],axis=1)\n",
    "X = X.drop(X.filter(regex='^bbox').columns, axis=1)\n",
    "X = X.drop(X.filter(regex='^centroid').columns, axis=1)\n",
    "y = Herlev_df_ext['normal']\n",
    "X_train, X_test, y_train, y_test = train_test_split(X, y, test_size=0.30,stratify=y)\n"
   ]
  },
  {
   "cell_type": "code",
   "execution_count": 27,
   "metadata": {},
   "outputs": [
    {
     "data": {
      "text/plain": [
       "RandomForestClassifier(max_depth=2, random_state=0)"
      ]
     },
     "execution_count": 27,
     "metadata": {},
     "output_type": "execute_result"
    }
   ],
   "source": [
    "from sklearn.ensemble import RandomForestClassifier\n",
    "from sklearn.datasets import make_classification\n",
    "X, y = make_classification(n_samples=1000, n_features=4,n_informative=2, n_redundant=0,random_state=0, shuffle=False)\n",
    "clf = RandomForestClassifier(max_depth=2, random_state=0)\n",
    "clf.fit(X_train, y_train)\n"
   ]
  },
  {
   "cell_type": "code",
   "execution_count": 33,
   "metadata": {},
   "outputs": [],
   "source": [
    "from sklearn.metrics import classification_report,accuracy_score, confusion_matrix, roc_curve, roc_auc_score, precision_score, recall_score, precision_recall_curve, auc, f1_score"
   ]
  },
  {
   "cell_type": "code",
   "execution_count": 34,
   "metadata": {},
   "outputs": [
    {
     "name": "stdout",
     "output_type": "stream",
     "text": [
      "Classification report: \n",
      "              precision    recall  f1-score   support\n",
      "\n",
      "         0.0       0.86      0.99      0.92       201\n",
      "         1.0       0.93      0.55      0.69        71\n",
      "\n",
      "    accuracy                           0.87       272\n",
      "   macro avg       0.89      0.77      0.80       272\n",
      "weighted avg       0.88      0.87      0.86       272\n",
      "\n",
      "\n",
      "Confusion matrix: \n",
      "[[198   3]\n",
      " [ 32  39]]\n",
      "\n",
      "Area under the precision-recall curve: \n",
      "0.7977571310214226\n"
     ]
    }
   ],
   "source": [
    "predictions = clf.predict(X_test)\n",
    "print(f'Classification report: \\n{classification_report(y_test,predictions)}')\n",
    "print()\n",
    "print(f'Confusion matrix: \\n{confusion_matrix(y_test,predictions)}')\n",
    "print()\n",
    "# precision recall curve - better than the ROC for unbalanced data\n",
    "precision, recall, thresholds = precision_recall_curve(y_test,predictions)\n",
    "print(f'Area under the precision-recall curve: \\n{auc(recall,precision)}')"
   ]
  },
  {
   "cell_type": "code",
   "execution_count": 30,
   "metadata": {},
   "outputs": [
    {
     "data": {
      "text/plain": [
       "OrderedDict([('major_axis_length', 0.2881201826509994),\n",
       "             ('area', 0.19708778542449387),\n",
       "             ('minor_axis_length', 0.16256068761840045),\n",
       "             ('perimeter', 0.14888132510756472),\n",
       "             ('min_intensity', 0.10216297929884095),\n",
       "             ('max_intensity', 0.06676559459743694),\n",
       "             ('eccentricity', 0.020047941996607824),\n",
       "             ('solidity', 0.014373503305655828)])"
      ]
     },
     "execution_count": 30,
     "metadata": {},
     "output_type": "execute_result"
    }
   ],
   "source": [
    "important_features_dict = {}\n",
    "for x,i in enumerate(clf.feature_importances_):\n",
    "    important_features_dict[list(X_train.keys())[x]]=i\n",
    "\n",
    "sorted_features = sorted(important_features_dict.items(), key=lambda kv: kv[1], reverse=True)\n",
    "from collections import OrderedDict\n",
    "OrderedDict(sorted_features)"
   ]
  },
  {
   "cell_type": "code",
   "execution_count": null,
   "metadata": {},
   "outputs": [],
   "source": [
    "#return image with suspicious nuclei flagged "
   ]
  }
 ],
 "metadata": {
  "kernelspec": {
   "display_name": "Python 3",
   "language": "python",
   "name": "python3"
  },
  "language_info": {
   "codemirror_mode": {
    "name": "ipython",
    "version": 3
   },
   "file_extension": ".py",
   "mimetype": "text/x-python",
   "name": "python",
   "nbconvert_exporter": "python",
   "pygments_lexer": "ipython3",
   "version": "3.7.9"
  }
 },
 "nbformat": 4,
 "nbformat_minor": 4
}
