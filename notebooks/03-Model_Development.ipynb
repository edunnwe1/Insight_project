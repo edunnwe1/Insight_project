{
 "cells": [
  {
   "cell_type": "code",
   "execution_count": 1,
   "metadata": {},
   "outputs": [],
   "source": [
    "import pandas as pd\n",
    "import numpy as np\n",
    "import matplotlib.pyplot as plt\n",
    "%matplotlib inline\n",
    "import seaborn as sns\n",
    "import statistics as stats\n",
    "from os import listdir\n",
    "from skimage import io, filters, color,exposure,feature,measure,segmentation\n",
    "from scipy import ndimage\n",
    "import cv2 \n",
    "import imutils\n",
    "import glob\n",
    "import sys\n",
    "sys.path.append('../scripts/')\n",
    "# from nuclei_segmentation_opencv import nuclei_segmenter\n",
    "# from nuclei_segmentation import nuclei_segmenter"
   ]
  },
  {
   "cell_type": "code",
   "execution_count": 2,
   "metadata": {},
   "outputs": [],
   "source": [
    "# seg = nuclei_segmenter(area_threshold=250,p2a_threshold=0.25,solidity_threshold=0.7,median_filter_param=5,cropped_flag=1)\n",
    "# seg = nuclei_segmenter(area_threshold,p2a_threshold,solidity_threshold,ksize, clipLimit,cropped_flag)\n",
    "seg = nuclei_segmenter(solidity_threshold=0,cropped_flag=1)\n",
    "# seg = nuclei_segmenter(area_threshold=250,median_filter_param=0,cropped_flag=0)"
   ]
  },
  {
   "cell_type": "code",
   "execution_count": null,
   "metadata": {
    "scrolled": true
   },
   "outputs": [],
   "source": [
    "Herlev_df_ext = pd.DataFrame()\n",
    "folders = listdir('../data/Herlev Database Pictures/')[1:]\n",
    "for folder in folders:\n",
    "    for blob in glob.glob('../data/Herlev Database Pictures/{}/*.BMP'.format(folder)):\n",
    "        df = seg.segment_nuclei(blob)\n",
    "        df['class'] = folder\n",
    "        if folder.startswith('normal'):\n",
    "            df['normal']=1\n",
    "        else:\n",
    "            df['normal']=0\n",
    "        Herlev_df_ext = Herlev_df_ext.append(df)"
   ]
  },
  {
   "cell_type": "code",
   "execution_count": 6,
   "metadata": {},
   "outputs": [],
   "source": [
    "# Herlev_df_ext.to_pickle('../data/Herlev_df_ext')"
   ]
  },
  {
   "cell_type": "code",
   "execution_count": 6,
   "metadata": {},
   "outputs": [],
   "source": [
    "Herlev_df_ext = pd.read_pickle('../data/Herlev_df_ext')"
   ]
  },
  {
   "cell_type": "code",
   "execution_count": 7,
   "metadata": {},
   "outputs": [
    {
     "data": {
      "text/plain": [
       "904"
      ]
     },
     "execution_count": 7,
     "metadata": {},
     "output_type": "execute_result"
    }
   ],
   "source": [
    "len(Herlev_df_ext)"
   ]
  },
  {
   "cell_type": "code",
   "execution_count": 8,
   "metadata": {},
   "outputs": [
    {
     "data": {
      "text/plain": [
       "(array([824.,  42.,  16.,   8.,   5.,   5.,   1.,   2.,   0.,   1.]),\n",
       " array([   302.,  15010.,  29718.,  44426.,  59134.,  73842.,  88550.,\n",
       "        103258., 117966., 132674., 147382.]),\n",
       " <BarContainer object of 10 artists>)"
      ]
     },
     "execution_count": 8,
     "metadata": {},
     "output_type": "execute_result"
    },
    {
     "data": {
      "image/png": "[encoded data removed]",
      "text/plain": [
       "<Figure size 432x288 with 1 Axes>"
      ]
     },
     "metadata": {
      "needs_background": "light"
     },
     "output_type": "display_data"
    }
   ],
   "source": [
    "plt.hist(Herlev_df_ext['area'])"
   ]
  },
  {
   "cell_type": "code",
   "execution_count": null,
   "metadata": {},
   "outputs": [],
   "source": []
  },
  {
   "cell_type": "code",
   "execution_count": 7,
   "metadata": {},
   "outputs": [],
   "source": [
    "from sklearn.model_selection import train_test_split\n",
    "X = Herlev_df_ext.drop(['class','normal','ctr_score','ID'],axis=1)\n",
    "X = X.drop(X.filter(regex='^bbox').columns, axis=1)\n",
    "X = X.drop(X.filter(regex='^centroid').columns, axis=1)\n",
    "y = Herlev_df_ext['normal']\n",
    "X_train, X_test, y_train, y_test = train_test_split(X, y, test_size=0.30,stratify=y)\n"
   ]
  },
  {
   "cell_type": "code",
   "execution_count": 8,
   "metadata": {},
   "outputs": [
    {
     "data": {
      "text/plain": [
       "RandomForestClassifier(max_depth=2, random_state=0)"
      ]
     },
     "execution_count": 8,
     "metadata": {},
     "output_type": "execute_result"
    }
   ],
   "source": [
    "from sklearn.ensemble import RandomForestClassifier\n",
    "from sklearn.datasets import make_classification\n",
    "X, y = make_classification(n_samples=1000, n_features=4,n_informative=2, n_redundant=0,random_state=0, shuffle=False)\n",
    "clf = RandomForestClassifier(max_depth=2, random_state=0)\n",
    "clf.fit(X_train, y_train)\n"
   ]
  },
  {
   "cell_type": "code",
   "execution_count": 9,
   "metadata": {},
   "outputs": [],
   "source": [
    "from sklearn.metrics import classification_report,accuracy_score, confusion_matrix, roc_curve, roc_auc_score, precision_score, recall_score, precision_recall_curve, auc, f1_score"
   ]
  },
  {
   "cell_type": "code",
   "execution_count": 10,
   "metadata": {},
   "outputs": [
    {
     "name": "stdout",
     "output_type": "stream",
     "text": [
      "Classification report: \n",
      "              precision    recall  f1-score   support\n",
      "\n",
      "         0.0       0.86      0.97      0.91       200\n",
      "         1.0       0.89      0.54      0.67        72\n",
      "\n",
      "    accuracy                           0.86       272\n",
      "   macro avg       0.87      0.76      0.79       272\n",
      "weighted avg       0.86      0.86      0.85       272\n",
      "\n",
      "\n",
      "Confusion matrix: \n",
      "[[195   5]\n",
      " [ 33  39]]\n",
      "\n",
      "Area under the precision-recall curve: \n",
      "0.7746769162210339\n"
     ]
    }
   ],
   "source": [
    "predictions = clf.predict(X_test)\n",
    "print(f'Classification report: \\n{classification_report(y_test,predictions)}')\n",
    "print()\n",
    "print(f'Confusion matrix: \\n{confusion_matrix(y_test,predictions)}')\n",
    "print()\n",
    "# precision recall curve - better than the ROC for unbalanced data\n",
    "precision, recall, thresholds = precision_recall_curve(y_test,predictions)\n",
    "print(f'Area under the precision-recall curve: \\n{auc(recall,precision)}')"
   ]
  },
  {
   "cell_type": "code",
   "execution_count": 11,
   "metadata": {},
   "outputs": [
    {
     "data": {
      "text/plain": [
       "OrderedDict([('major_axis_length', 0.31612077141571815),\n",
       "             ('area', 0.22588080564823065),\n",
       "             ('perimeter', 0.17554537889611635),\n",
       "             ('minor_axis_length', 0.1338332620470843),\n",
       "             ('max_intensity', 0.06785438868689869),\n",
       "             ('min_intensity', 0.05378397870730238),\n",
       "             ('eccentricity', 0.01760677218350451),\n",
       "             ('solidity', 0.00937464241514493)])"
      ]
     },
     "execution_count": 11,
     "metadata": {},
     "output_type": "execute_result"
    }
   ],
   "source": [
    "important_features_dict = {}\n",
    "for x,i in enumerate(clf.feature_importances_):\n",
    "    important_features_dict[list(X_train.keys())[x]]=i\n",
    "\n",
    "sorted_features = sorted(important_features_dict.items(), key=lambda kv: kv[1], reverse=True)\n",
    "from collections import OrderedDict\n",
    "OrderedDict(sorted_features)"
   ]
  },
  {
   "cell_type": "code",
   "execution_count": 13,
   "metadata": {},
   "outputs": [],
   "source": [
    "from sklearn.linear_model import LogisticRegression\n",
    "logmodel = LogisticRegression(random_state=42,max_iter=500)\n",
    "logmodel.fit(X_train,y_train)\n",
    "predictions = logmodel.predict(X_test)"
   ]
  },
  {
   "cell_type": "code",
   "execution_count": null,
   "metadata": {},
   "outputs": [],
   "source": [
    "#return image with suspicious nuclei flagged "
   ]
  },
  {
   "cell_type": "code",
   "execution_count": null,
   "metadata": {},
   "outputs": [],
   "source": []
  }
 ],
 "metadata": {
  "kernelspec": {
   "display_name": "Python 3",
   "language": "python",
   "name": "python3"
  },
  "language_info": {
   "codemirror_mode": {
    "name": "ipython",
    "version": 3
   },
   "file_extension": ".py",
   "mimetype": "text/x-python",
   "name": "python",
   "nbconvert_exporter": "python",
   "pygments_lexer": "ipython3",
   "version": "3.7.9"
  }
 },
 "nbformat": 4,
 "nbformat_minor": 4
}
