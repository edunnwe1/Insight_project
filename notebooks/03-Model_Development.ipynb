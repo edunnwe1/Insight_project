{
 "cells": [
  {
   "cell_type": "markdown",
   "metadata": {},
   "source": [
    "The purpose of this notebook is to develop a model to predict whether a cell is normal or abnomal based on nucleus features."
   ]
  },
  {
   "cell_type": "code",
   "execution_count": 3,
   "metadata": {},
   "outputs": [],
   "source": [
    "import pandas as pd\n",
    "import numpy as np\n",
    "import matplotlib.pyplot as plt\n",
    "%matplotlib inline\n",
    "import seaborn as sns\n",
    "import statistics as stats\n",
    "from os import listdir\n",
    "from skimage import io, filters, color,exposure,feature,measure,segmentation\n",
    "from scipy import ndimage\n",
    "import cv2 \n",
    "import imutils\n",
    "import glob\n",
    "import sys\n",
    "sys.path.append('../scripts/')\n",
    "from nuclei_segmentation_opencv import nuclei_segmenter"
   ]
  },
  {
   "cell_type": "code",
   "execution_count": 4,
   "metadata": {},
   "outputs": [],
   "source": [
    "df_ext = pd.read_csv('../data/processed/Sipakmed_nuclei_database.csv')"
   ]
  },
  {
   "cell_type": "markdown",
   "metadata": {},
   "source": [
    "#### To encourage the model to generalize across the specifics of certain images, we drop all image intensity features (esp wrt color)"
   ]
  },
  {
   "cell_type": "code",
   "execution_count": 352,
   "metadata": {},
   "outputs": [
    {
     "data": {
      "text/html": [
       "<div>\n",
       "<style scoped>\n",
       "    .dataframe tbody tr th:only-of-type {\n",
       "        vertical-align: middle;\n",
       "    }\n",
       "\n",
       "    .dataframe tbody tr th {\n",
       "        vertical-align: top;\n",
       "    }\n",
       "\n",
       "    .dataframe thead th {\n",
       "        text-align: right;\n",
       "    }\n",
       "</style>\n",
       "<table border=\"1\" class=\"dataframe\">\n",
       "  <thead>\n",
       "    <tr style=\"text-align: right;\">\n",
       "      <th></th>\n",
       "      <th>cluster_id</th>\n",
       "      <th>Class</th>\n",
       "      <th>area</th>\n",
       "      <th>major_axis_length</th>\n",
       "      <th>minor_axis_length</th>\n",
       "      <th>major_to_minor</th>\n",
       "      <th>eccentricity</th>\n",
       "      <th>solidity</th>\n",
       "      <th>Normal</th>\n",
       "    </tr>\n",
       "  </thead>\n",
       "  <tbody>\n",
       "    <tr>\n",
       "      <th>0</th>\n",
       "      <td>1</td>\n",
       "      <td>s</td>\n",
       "      <td>108300.0</td>\n",
       "      <td>394.10</td>\n",
       "      <td>363.96</td>\n",
       "      <td>1.082811</td>\n",
       "      <td>0.38358</td>\n",
       "      <td>0.94167</td>\n",
       "      <td>1</td>\n",
       "    </tr>\n",
       "    <tr>\n",
       "      <th>1</th>\n",
       "      <td>1</td>\n",
       "      <td>s</td>\n",
       "      <td>50590.0</td>\n",
       "      <td>330.71</td>\n",
       "      <td>217.29</td>\n",
       "      <td>1.521975</td>\n",
       "      <td>0.75385</td>\n",
       "      <td>0.88165</td>\n",
       "      <td>1</td>\n",
       "    </tr>\n",
       "    <tr>\n",
       "      <th>2</th>\n",
       "      <td>1</td>\n",
       "      <td>s</td>\n",
       "      <td>95258.0</td>\n",
       "      <td>450.82</td>\n",
       "      <td>290.24</td>\n",
       "      <td>1.553266</td>\n",
       "      <td>0.76518</td>\n",
       "      <td>0.90680</td>\n",
       "      <td>1</td>\n",
       "    </tr>\n",
       "    <tr>\n",
       "      <th>3</th>\n",
       "      <td>1</td>\n",
       "      <td>s</td>\n",
       "      <td>84199.0</td>\n",
       "      <td>363.33</td>\n",
       "      <td>310.51</td>\n",
       "      <td>1.170107</td>\n",
       "      <td>0.51924</td>\n",
       "      <td>0.91911</td>\n",
       "      <td>1</td>\n",
       "    </tr>\n",
       "    <tr>\n",
       "      <th>4</th>\n",
       "      <td>1</td>\n",
       "      <td>s</td>\n",
       "      <td>98175.0</td>\n",
       "      <td>433.48</td>\n",
       "      <td>303.43</td>\n",
       "      <td>1.428600</td>\n",
       "      <td>0.71416</td>\n",
       "      <td>0.92263</td>\n",
       "      <td>1</td>\n",
       "    </tr>\n",
       "  </tbody>\n",
       "</table>\n",
       "</div>"
      ],
      "text/plain": [
       "   cluster_id Class      area  major_axis_length  minor_axis_length  \\\n",
       "0           1     s  108300.0             394.10             363.96   \n",
       "1           1     s   50590.0             330.71             217.29   \n",
       "2           1     s   95258.0             450.82             290.24   \n",
       "3           1     s   84199.0             363.33             310.51   \n",
       "4           1     s   98175.0             433.48             303.43   \n",
       "\n",
       "   major_to_minor  eccentricity  solidity  Normal  \n",
       "0        1.082811       0.38358   0.94167       1  \n",
       "1        1.521975       0.75385   0.88165       1  \n",
       "2        1.553266       0.76518   0.90680       1  \n",
       "3        1.170107       0.51924   0.91911       1  \n",
       "4        1.428600       0.71416   0.92263       1  "
      ]
     },
     "execution_count": 352,
     "metadata": {},
     "output_type": "execute_result"
    }
   ],
   "source": [
    "df = df_ext.copy()\n",
    "# restrict to the features of interest\n",
    "df = df[['cluster_id','Class','area','major_axis_length','minor_axis_length','major_to_minor','eccentricity','solidity','Normal']]\n",
    "df.head()"
   ]
  },
  {
   "cell_type": "markdown",
   "metadata": {},
   "source": [
    "#### Train classifier, use GroupKFold Cross-Validation"
   ]
  },
  {
   "cell_type": "code",
   "execution_count": 278,
   "metadata": {},
   "outputs": [],
   "source": [
    "# imports\n",
    "from sklearn.metrics import classification_report,accuracy_score, confusion_matrix, roc_curve, roc_auc_score, precision_score, recall_score, precision_recall_curve, auc, f1_score\n",
    "from sklearn.ensemble import RandomForestClassifier\n",
    "from sklearn.model_selection import GroupKFold\n",
    "from sklearn.model_selection import cross_val_score"
   ]
  },
  {
   "cell_type": "code",
   "execution_count": 295,
   "metadata": {},
   "outputs": [
    {
     "name": "stdout",
     "output_type": "stream",
     "text": [
      "Average cross-validation roc_auc score: 0.91\n"
     ]
    }
   ],
   "source": [
    "# create classifier\n",
    "clf = RandomForestClassifier(n_estimators=100,random_state=0)\n",
    "# get data\n",
    "X = df.drop(['cluster_id','Class','Normal'],axis=1)\n",
    "y = df['Normal']\n",
    "# group by cluster: make sure no cells from the same cluster appear in both the training and test sets\n",
    "# (this is important to minimize data leakage)\n",
    "groups = df['cluster_id'].values\n",
    "# train and get the GroupKFold roc_auc score\n",
    "scores = cross_val_score(clf,X,y,groups=groups,cv=GroupKFold(n_splits=5),scoring='roc_auc')\n",
    "print(\"Average cross-validation roc_auc score: {:.2f}\".format(scores.mean()))"
   ]
  },
  {
   "cell_type": "markdown",
   "metadata": {},
   "source": [
    "#### Grid search for hyper parameter tuning "
   ]
  },
  {
   "cell_type": "code",
   "execution_count": 322,
   "metadata": {},
   "outputs": [],
   "source": [
    "# Separate a validation set, respecting cluster boundaries\n",
    "X_train = X[df['cluster_id']>15]\n",
    "y_train = y[df['cluster_id']>15]\n",
    "groups_train = groups[df['cluster_id']>15]\n",
    "X_validate = X[df['cluster_id']<=15]\n",
    "y_validate = y[df['cluster_id']<=15]"
   ]
  },
  {
   "cell_type": "code",
   "execution_count": 353,
   "metadata": {},
   "outputs": [
    {
     "data": {
      "text/plain": [
       "{'max_depth': 20, 'min_samples_leaf': 5}"
      ]
     },
     "execution_count": 353,
     "metadata": {},
     "output_type": "execute_result"
    }
   ],
   "source": [
    "# Grid search over paramters\n",
    "from sklearn.model_selection import GridSearchCV\n",
    "param_grid = {'max_depth':[5,10,20,40],\n",
    "             'min_samples_leaf':[2,5,10]}\n",
    "grid_search = GridSearchCV(clf, param_grid, cv=GroupKFold(n_splits=5))\n",
    "grid_search.fit(X_train,y_train,groups=groups_train)\n",
    "grid_search.best_params_"
   ]
  },
  {
   "cell_type": "code",
   "execution_count": 351,
   "metadata": {},
   "outputs": [
    {
     "name": "stdout",
     "output_type": "stream",
     "text": [
      "Classification report for true dataset: \n",
      "              precision    recall  f1-score   support\n",
      "\n",
      "           0       0.73      0.90      0.81       136\n",
      "           1       0.94      0.81      0.87       235\n",
      "\n",
      "    accuracy                           0.84       371\n",
      "   macro avg       0.83      0.86      0.84       371\n",
      "weighted avg       0.86      0.84      0.85       371\n",
      "\n",
      "\n",
      "Confusion matrix for true dataset: \n",
      "[[123  13]\n",
      " [ 45 190]]\n",
      "\n",
      "Area under the precision-recall curve: \n",
      "0.9328825149849803\n"
     ]
    }
   ],
   "source": [
    "# validate the model on the held out validation set\n",
    "preds = grid_search.predict(X_validate)\n",
    "print(f'Classification report for true dataset: \\n{classification_report(y_validate,preds)}')\n",
    "print()\n",
    "print(f'Confusion matrix for true dataset: \\n{confusion_matrix(y_validate,preds)}')\n",
    "print()\n",
    "# precision recall curve - better than the ROC for unbalanced data\n",
    "precision, recall, thresholds = precision_recall_curve(y_validate,preds)\n",
    "print(f'Area under the precision-recall curve: \\n{auc(recall,precision)}')"
   ]
  },
  {
   "cell_type": "markdown",
   "metadata": {},
   "source": [
    "#### Save the model "
   ]
  },
  {
   "cell_type": "code",
   "execution_count": 356,
   "metadata": {},
   "outputs": [],
   "source": [
    "import pickle\n",
    "filename = '../models/Sipakmed_model'\n",
    "pickle.dump(grid_search,open(filename,'wb'))"
   ]
  },
  {
   "cell_type": "code",
   "execution_count": null,
   "metadata": {},
   "outputs": [],
   "source": []
  }
 ],
 "metadata": {
  "kernelspec": {
   "display_name": "Python 3",
   "language": "python",
   "name": "python3"
  },
  "language_info": {
   "codemirror_mode": {
    "name": "ipython",
    "version": 3
   },
   "file_extension": ".py",
   "mimetype": "text/x-python",
   "name": "python",
   "nbconvert_exporter": "python",
   "pygments_lexer": "ipython3",
   "version": "3.7.9"
  }
 },
 "nbformat": 4,
 "nbformat_minor": 4
}
