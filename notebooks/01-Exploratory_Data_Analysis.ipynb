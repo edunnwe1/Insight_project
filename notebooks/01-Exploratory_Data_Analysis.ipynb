{
 "cells": [
  {
   "cell_type": "markdown",
   "metadata": {},
   "source": [
    "The purpose of this notebook is to perform exploratory analysis on the Sipakmed database. This will explore the separability of normal and abnormal cells along extractable nucleus features, as well as give insight into the expected distributions of these features"
   ]
  },
  {
   "cell_type": "code",
   "execution_count": 6,
   "metadata": {},
   "outputs": [],
   "source": [
    "import pandas as pd\n",
    "import numpy as np\n",
    "import matplotlib.pyplot as plt\n",
    "%matplotlib inline\n",
    "import seaborn as sns\n",
    "import statistics as stats\n",
    "from os import listdir\n",
    "import sys\n",
    "sys.path.append('../scripts/')\n",
    "from os import path"
   ]
  },
  {
   "cell_type": "markdown",
   "metadata": {},
   "source": [
    "#### Sipakmed dataframe"
   ]
  },
  {
   "cell_type": "code",
   "execution_count": 9,
   "metadata": {},
   "outputs": [],
   "source": [
    "if not path.exists('../data/processed/Sipakmed_existing_database.csv'):\n",
    "    from sipakmed_to_csv import sipakmed_to_csv\n",
    "    sipakmed_df = sipakmed_to_csv('../data/external/Sipakmed database features/')\n",
    "else:\n",
    "    sipakmed_df = pd.read_csv('../data/processed/Sipakmed_existing_database.csv')"
   ]
  },
  {
   "cell_type": "code",
   "execution_count": 4,
   "metadata": {
    "scrolled": true
   },
   "outputs": [
    {
     "data": {
      "text/html": [
       "<div>\n",
       "<style scoped>\n",
       "    .dataframe tbody tr th:only-of-type {\n",
       "        vertical-align: middle;\n",
       "    }\n",
       "\n",
       "    .dataframe tbody tr th {\n",
       "        vertical-align: top;\n",
       "    }\n",
       "\n",
       "    .dataframe thead th {\n",
       "        text-align: right;\n",
       "    }\n",
       "</style>\n",
       "<table border=\"1\" class=\"dataframe\">\n",
       "  <thead>\n",
       "    <tr style=\"text-align: right;\">\n",
       "      <th></th>\n",
       "      <th>cluster_id</th>\n",
       "      <th>image_id</th>\n",
       "      <th>area</th>\n",
       "      <th>major_axis_length</th>\n",
       "      <th>minor_axis_length</th>\n",
       "      <th>eccentricity</th>\n",
       "      <th>orientation</th>\n",
       "      <th>equivalent_diameter</th>\n",
       "      <th>solidity</th>\n",
       "      <th>extent</th>\n",
       "      <th>...</th>\n",
       "      <th>entropy-G</th>\n",
       "      <th>meanI_B</th>\n",
       "      <th>meanC_B</th>\n",
       "      <th>smooth_B</th>\n",
       "      <th>moment-3-B</th>\n",
       "      <th>uniformity-B</th>\n",
       "      <th>entropy-B</th>\n",
       "      <th>Nucleus/Cytoplasm</th>\n",
       "      <th>Class</th>\n",
       "      <th>Normal</th>\n",
       "    </tr>\n",
       "  </thead>\n",
       "  <tbody>\n",
       "    <tr>\n",
       "      <th>0</th>\n",
       "      <td>1</td>\n",
       "      <td>1</td>\n",
       "      <td>4750.0</td>\n",
       "      <td>109.910</td>\n",
       "      <td>79.173</td>\n",
       "      <td>0.69364</td>\n",
       "      <td>50.2970</td>\n",
       "      <td>77.768</td>\n",
       "      <td>0.79511</td>\n",
       "      <td>0.59316</td>\n",
       "      <td>...</td>\n",
       "      <td>5.8254</td>\n",
       "      <td>79.206</td>\n",
       "      <td>13.228</td>\n",
       "      <td>0.002684</td>\n",
       "      <td>0.050683</td>\n",
       "      <td>0.030804</td>\n",
       "      <td>5.4763</td>\n",
       "      <td>cyto</td>\n",
       "      <td>d</td>\n",
       "      <td>0</td>\n",
       "    </tr>\n",
       "    <tr>\n",
       "      <th>1</th>\n",
       "      <td>1</td>\n",
       "      <td>2</td>\n",
       "      <td>2661.0</td>\n",
       "      <td>90.862</td>\n",
       "      <td>67.625</td>\n",
       "      <td>0.66789</td>\n",
       "      <td>-77.8560</td>\n",
       "      <td>58.207</td>\n",
       "      <td>0.67435</td>\n",
       "      <td>0.50541</td>\n",
       "      <td>...</td>\n",
       "      <td>6.0336</td>\n",
       "      <td>77.502</td>\n",
       "      <td>17.711</td>\n",
       "      <td>0.004801</td>\n",
       "      <td>0.085103</td>\n",
       "      <td>0.020582</td>\n",
       "      <td>5.9474</td>\n",
       "      <td>cyto</td>\n",
       "      <td>d</td>\n",
       "      <td>0</td>\n",
       "    </tr>\n",
       "    <tr>\n",
       "      <th>2</th>\n",
       "      <td>1</td>\n",
       "      <td>3</td>\n",
       "      <td>3182.0</td>\n",
       "      <td>88.133</td>\n",
       "      <td>78.647</td>\n",
       "      <td>0.45131</td>\n",
       "      <td>39.7120</td>\n",
       "      <td>63.651</td>\n",
       "      <td>0.70507</td>\n",
       "      <td>0.45679</td>\n",
       "      <td>...</td>\n",
       "      <td>6.2933</td>\n",
       "      <td>77.000</td>\n",
       "      <td>16.356</td>\n",
       "      <td>0.004097</td>\n",
       "      <td>0.078425</td>\n",
       "      <td>0.025669</td>\n",
       "      <td>5.7358</td>\n",
       "      <td>cyto</td>\n",
       "      <td>d</td>\n",
       "      <td>0</td>\n",
       "    </tr>\n",
       "    <tr>\n",
       "      <th>3</th>\n",
       "      <td>1</td>\n",
       "      <td>4</td>\n",
       "      <td>3403.0</td>\n",
       "      <td>84.923</td>\n",
       "      <td>70.439</td>\n",
       "      <td>0.55860</td>\n",
       "      <td>-7.4439</td>\n",
       "      <td>65.824</td>\n",
       "      <td>0.80908</td>\n",
       "      <td>0.60768</td>\n",
       "      <td>...</td>\n",
       "      <td>5.9339</td>\n",
       "      <td>94.428</td>\n",
       "      <td>14.511</td>\n",
       "      <td>0.003228</td>\n",
       "      <td>0.011435</td>\n",
       "      <td>0.020493</td>\n",
       "      <td>5.8557</td>\n",
       "      <td>cyto</td>\n",
       "      <td>d</td>\n",
       "      <td>0</td>\n",
       "    </tr>\n",
       "    <tr>\n",
       "      <th>4</th>\n",
       "      <td>1</td>\n",
       "      <td>5</td>\n",
       "      <td>3060.0</td>\n",
       "      <td>87.223</td>\n",
       "      <td>60.017</td>\n",
       "      <td>0.72562</td>\n",
       "      <td>-18.2240</td>\n",
       "      <td>62.419</td>\n",
       "      <td>0.82680</td>\n",
       "      <td>0.62705</td>\n",
       "      <td>...</td>\n",
       "      <td>6.3872</td>\n",
       "      <td>88.476</td>\n",
       "      <td>17.858</td>\n",
       "      <td>0.004880</td>\n",
       "      <td>0.035157</td>\n",
       "      <td>0.016838</td>\n",
       "      <td>6.0507</td>\n",
       "      <td>cyto</td>\n",
       "      <td>d</td>\n",
       "      <td>0</td>\n",
       "    </tr>\n",
       "  </tbody>\n",
       "</table>\n",
       "<p>5 rows × 31 columns</p>\n",
       "</div>"
      ],
      "text/plain": [
       "   cluster_id  image_id    area  major_axis_length  minor_axis_length  \\\n",
       "0           1         1  4750.0            109.910             79.173   \n",
       "1           1         2  2661.0             90.862             67.625   \n",
       "2           1         3  3182.0             88.133             78.647   \n",
       "3           1         4  3403.0             84.923             70.439   \n",
       "4           1         5  3060.0             87.223             60.017   \n",
       "\n",
       "   eccentricity  orientation  equivalent_diameter  solidity   extent  ...  \\\n",
       "0       0.69364      50.2970               77.768   0.79511  0.59316  ...   \n",
       "1       0.66789     -77.8560               58.207   0.67435  0.50541  ...   \n",
       "2       0.45131      39.7120               63.651   0.70507  0.45679  ...   \n",
       "3       0.55860      -7.4439               65.824   0.80908  0.60768  ...   \n",
       "4       0.72562     -18.2240               62.419   0.82680  0.62705  ...   \n",
       "\n",
       "   entropy-G  meanI_B  meanC_B  smooth_B  moment-3-B  uniformity-B  entropy-B  \\\n",
       "0     5.8254   79.206   13.228  0.002684    0.050683      0.030804     5.4763   \n",
       "1     6.0336   77.502   17.711  0.004801    0.085103      0.020582     5.9474   \n",
       "2     6.2933   77.000   16.356  0.004097    0.078425      0.025669     5.7358   \n",
       "3     5.9339   94.428   14.511  0.003228    0.011435      0.020493     5.8557   \n",
       "4     6.3872   88.476   17.858  0.004880    0.035157      0.016838     6.0507   \n",
       "\n",
       "   Nucleus/Cytoplasm  Class  Normal  \n",
       "0               cyto      d       0  \n",
       "1               cyto      d       0  \n",
       "2               cyto      d       0  \n",
       "3               cyto      d       0  \n",
       "4               cyto      d       0  \n",
       "\n",
       "[5 rows x 31 columns]"
      ]
     },
     "execution_count": 4,
     "metadata": {},
     "output_type": "execute_result"
    }
   ],
   "source": [
    "sipakmed_df.head()"
   ]
  },
  {
   "cell_type": "markdown",
   "metadata": {},
   "source": [
    "#### Reduce the dataframe to just nuclei features, and drop 'm' class (this class is on the border of normal/abnormal)"
   ]
  },
  {
   "cell_type": "code",
   "execution_count": 10,
   "metadata": {},
   "outputs": [],
   "source": [
    "df_reduced = sipakmed_df[sipakmed_df['Class']!='m']\n",
    "df = df_reduced[df_reduced['Nucleus/Cytoplasm']=='nuc']"
   ]
  },
  {
   "cell_type": "markdown",
   "metadata": {},
   "source": [
    "#### Feature engineer a ratio between the major and minor axis"
   ]
  },
  {
   "cell_type": "code",
   "execution_count": 43,
   "metadata": {},
   "outputs": [],
   "source": [
    "df['major_to_minor'] = df['major_axis_length']/df['minor_axis_length']"
   ]
  },
  {
   "cell_type": "markdown",
   "metadata": {},
   "source": [
    "#### The easiest features to segment are area, eccentricity or major:minor axis ratio, extent, solidity, and the mean intensity of each channel."
   ]
  },
  {
   "cell_type": "markdown",
   "metadata": {},
   "source": [
    "Check for separability along these feature domains "
   ]
  },
  {
   "cell_type": "code",
   "execution_count": 62,
   "metadata": {},
   "outputs": [
    {
     "data": {
      "image/png": "[encoded data removed]",
      "text/plain": [
       "<Figure size 432x288 with 1 Axes>"
      ]
     },
     "metadata": {
      "needs_background": "light"
     },
     "output_type": "display_data"
    },
    {
     "data": {
      "image/png": "[encoded data removed]",
      "text/plain": [
       "<Figure size 432x288 with 1 Axes>"
      ]
     },
     "metadata": {
      "needs_background": "light"
     },
     "output_type": "display_data"
    },
    {
     "data": {
      "image/png": "[encoded data removed]",
      "text/plain": [
       "<Figure size 432x288 with 1 Axes>"
      ]
     },
     "metadata": {
      "needs_background": "light"
     },
     "output_type": "display_data"
    }
   ],
   "source": [
    "# nucleus area\n",
    "ax = sns.boxplot(x='Normal',y='area',data=df,showfliers=False)\n",
    "ax.set_title('Nucleus area abnormal vs normal')\n",
    "plt.show()\n",
    "\n",
    "# major:minor axis ratio\n",
    "ax = sns.boxplot(x='Normal',y='major_to_minor',data=df,showfliers=False)\n",
    "ax.set_title('Nucleus major:minor axis ratio abnormal vs normal')\n",
    "plt.show()\n",
    "\n",
    "# eccentricity\n",
    "ax = sns.boxplot(x='Normal',y='solidity',data=df,showfliers=False)\n",
    "ax.set_title('Nucleus solidity abnormal vs normal')\n",
    "plt.show()"
   ]
  },
  {
   "cell_type": "markdown",
   "metadata": {},
   "source": [
    "Get characteristics of the distributions of these features to guide subsequent feature segmentation. We want to filter out debris that is smaller than the minimum nucleus size, and debris that is too elliptical"
   ]
  },
  {
   "cell_type": "code",
   "execution_count": 18,
   "metadata": {},
   "outputs": [],
   "source": [
    "# drop outliers\n",
    "df = df[df['area'] < 10000]"
   ]
  },
  {
   "cell_type": "code",
   "execution_count": 20,
   "metadata": {},
   "outputs": [
    {
     "name": "stdout",
     "output_type": "stream",
     "text": [
      "Minimum nucleus size:362.0\n"
     ]
    },
    {
     "data": {
      "image/png": "[encoded data removed]",
      "text/plain": [
       "<Figure size 360x360 with 1 Axes>"
      ]
     },
     "metadata": {
      "needs_background": "light"
     },
     "output_type": "display_data"
    }
   ],
   "source": [
    "# nucleus area\n",
    "ax = sns.displot(df['area'],kde=False)\n",
    "print('Minimum nucleus size:{}'.format(df['area'].min()))"
   ]
  },
  {
   "cell_type": "code",
   "execution_count": 28,
   "metadata": {},
   "outputs": [
    {
     "data": {
      "image/png": "[encoded data removed]",
      "text/plain": [
       "<Figure size 360x360 with 1 Axes>"
      ]
     },
     "metadata": {
      "needs_background": "light"
     },
     "output_type": "display_data"
    }
   ],
   "source": [
    "# eccentricity\n",
    "ax = sns.displot(df['eccentricity'],kde=False)"
   ]
  },
  {
   "cell_type": "code",
   "execution_count": 48,
   "metadata": {},
   "outputs": [
    {
     "name": "stdout",
     "output_type": "stream",
     "text": [
      "Expected range = 2.573528049556492\n"
     ]
    },
    {
     "data": {
      "image/png": "[encoded data removed]",
      "text/plain": [
       "<Figure size 360x360 with 1 Axes>"
      ]
     },
     "metadata": {
      "needs_background": "light"
     },
     "output_type": "display_data"
    }
   ],
   "source": [
    "# major: minor axis ratio\n",
    "ax = sns.displot(df['major_to_minor'],kde=False)\n",
    "print('Expected range = {}'.format(np.mean(df['major_to_minor']) + np.sqrt(np.mean(df['major_to_minor'])))) # poisson assumption"
   ]
  },
  {
   "cell_type": "code",
   "execution_count": 51,
   "metadata": {},
   "outputs": [
    {
     "name": "stdout",
     "output_type": "stream",
     "text": [
      "Minimum solidity:0.65989\n"
     ]
    },
    {
     "data": {
      "image/png": "[encoded data removed]",
      "text/plain": [
       "<Figure size 360x360 with 1 Axes>"
      ]
     },
     "metadata": {
      "needs_background": "light"
     },
     "output_type": "display_data"
    }
   ],
   "source": [
    "# solidity\n",
    "ax = sns.displot(df['solidity'],kde=False)\n",
    "print('Minimum solidity:{}'.format(df['solidity'].min()))"
   ]
  }
 ],
 "metadata": {
  "kernelspec": {
   "display_name": "Python 3",
   "language": "python",
   "name": "python3"
  },
  "language_info": {
   "codemirror_mode": {
    "name": "ipython",
    "version": 3
   },
   "file_extension": ".py",
   "mimetype": "text/x-python",
   "name": "python",
   "nbconvert_exporter": "python",
   "pygments_lexer": "ipython3",
   "version": "3.7.9"
  }
 },
 "nbformat": 4,
 "nbformat_minor": 4
}
