{
 "cells": [
  {
   "cell_type": "markdown",
   "metadata": {},
   "source": [
    "The purpose of this notebook is to perform exploratory analysis on the Herlev and Sipakmed databases to ascertain the characteristic properties of cell nuclei and cytoplasm for subsequent segmentation. We will also attempt a random forest classifier on the available features to ascertain feature importance. This will guide subsequent segmentation attempts. "
   ]
  },
  {
   "cell_type": "code",
   "execution_count": 2,
   "metadata": {},
   "outputs": [],
   "source": [
    "import pandas as pd\n",
    "import numpy as np\n",
    "import matplotlib.pyplot as plt\n",
    "%matplotlib inline\n",
    "import seaborn as sns\n",
    "import statistics as stats"
   ]
  },
  {
   "cell_type": "markdown",
   "metadata": {},
   "source": [
    "#### Herlev dataset"
   ]
  },
  {
   "cell_type": "code",
   "execution_count": 24,
   "metadata": {},
   "outputs": [],
   "source": [
    "Herlev_df = pd.read_excel('../data/Herlev_existing_database.xls')\n",
    "Herlev_df['normal'] = [0 if Herlev_df['Class'][x] > 3 else 1 for x in range(len(Herlev_df))]"
   ]
  },
  {
   "cell_type": "markdown",
   "metadata": {},
   "source": [
    "Exploratory data analysis. Literature suggests that nucleus area and nucleus/cytoplasm area ratio are distinguishing features for normal vs abnormal cells."
   ]
  },
  {
   "cell_type": "code",
   "execution_count": 15,
   "metadata": {},
   "outputs": [
    {
     "data": {
      "image/png": "[encoded data removed]",
      "text/plain": [
       "<Figure size 432x288 with 1 Axes>"
      ]
     },
     "metadata": {
      "needs_background": "light"
     },
     "output_type": "display_data"
    },
    {
     "data": {
      "text/plain": [
       "<AxesSubplot:xlabel='normal', ylabel='K/C'>"
      ]
     },
     "execution_count": 15,
     "metadata": {},
     "output_type": "execute_result"
    },
    {
     "data": {
      "image/png": "[encoded data removed]",
      "text/plain": [
       "<Figure size 432x288 with 1 Axes>"
      ]
     },
     "metadata": {
      "needs_background": "light"
     },
     "output_type": "display_data"
    }
   ],
   "source": [
    "sns.boxplot(x='normal',y='Kerne_A',data=Herlev_df)\n",
    "plt.show()\n",
    "sns.boxplot(x='normal',y='K/C',data=Herlev_df)"
   ]
  },
  {
   "cell_type": "markdown",
   "metadata": {},
   "source": [
    "Random forest classifier for an initial indication of which features are most important."
   ]
  },
  {
   "cell_type": "code",
   "execution_count": 27,
   "metadata": {},
   "outputs": [],
   "source": [
    "from sklearn.model_selection import train_test_split\n",
    "X = Herlev_df.drop(['Class','normal','ID'],axis=1)\n",
    "y = Herlev_df['normal']\n",
    "X_train, X_test, y_train, y_test = train_test_split(X, y, test_size=0.30,stratify=y)"
   ]
  },
  {
   "cell_type": "code",
   "execution_count": 28,
   "metadata": {},
   "outputs": [
    {
     "data": {
      "text/plain": [
       "RandomForestClassifier(max_depth=2, random_state=0)"
      ]
     },
     "execution_count": 28,
     "metadata": {},
     "output_type": "execute_result"
    }
   ],
   "source": [
    "from sklearn.ensemble import RandomForestClassifier\n",
    "from sklearn.datasets import make_classification\n",
    "X, y = make_classification(n_samples=1000, n_features=4,n_informative=2, n_redundant=0,random_state=0, shuffle=False)\n",
    "clf = RandomForestClassifier(max_depth=2, random_state=0)\n",
    "clf.fit(X_train, y_train)\n"
   ]
  },
  {
   "cell_type": "code",
   "execution_count": 29,
   "metadata": {},
   "outputs": [],
   "source": [
    "from sklearn.metrics import classification_report,confusion_matrix"
   ]
  },
  {
   "cell_type": "code",
   "execution_count": 30,
   "metadata": {},
   "outputs": [
    {
     "name": "stdout",
     "output_type": "stream",
     "text": [
      "              precision    recall  f1-score   support\n",
      "\n",
      "           0       0.92      0.96      0.94       203\n",
      "           1       0.87      0.75      0.81        73\n",
      "\n",
      "    accuracy                           0.91       276\n",
      "   macro avg       0.89      0.86      0.87       276\n",
      "weighted avg       0.90      0.91      0.90       276\n",
      "\n"
     ]
    }
   ],
   "source": [
    "preds = clf.predict(X_test)\n",
    "print(classification_report(y_test,preds))"
   ]
  },
  {
   "cell_type": "code",
   "execution_count": 75,
   "metadata": {},
   "outputs": [
    {
     "data": {
      "text/plain": [
       "OrderedDict([('KernePeri', 0.23077824169340136),\n",
       "             ('Kerne_A', 0.20989999164827647),\n",
       "             ('KerneLong', 0.15216604519627058),\n",
       "             ('K/C', 0.12168574019602693),\n",
       "             ('KerneMax', 0.08893238436105401),\n",
       "             ('KerneShort', 0.04454983011124266),\n",
       "             ('CytoMax', 0.03560532137295383),\n",
       "             ('KerneMin', 0.030569855852423673),\n",
       "             ('Cyto_A', 0.021784997916245115),\n",
       "             ('CytoMin', 0.018456708442632325),\n",
       "             ('CytoShort', 0.012698384615161384),\n",
       "             ('CytoPeri', 0.011868772208991234),\n",
       "             ('CytoLong', 0.010266453799465837),\n",
       "             ('Kerne_Ycol', 0.004787180392755153),\n",
       "             ('KernePos', 0.003054225667583618),\n",
       "             ('CytoElong', 0.0014770319094360798),\n",
       "             ('Cyto_Ycol', 0.0012545652630646697),\n",
       "             ('KerneRund', 0.00016426935301509462),\n",
       "             ('KerneElong', 0.0),\n",
       "             ('CytoRund', 0.0)])"
      ]
     },
     "execution_count": 75,
     "metadata": {},
     "output_type": "execute_result"
    }
   ],
   "source": [
    "important_features_dict = {}\n",
    "for x,i in enumerate(clf.feature_importances_):\n",
    "    important_features_dict[list(X_train.keys())[x]]=i\n",
    "\n",
    "sorted_features = sorted(important_features_dict.items(), key=lambda kv: kv[1], reverse=True)\n",
    "from collections import OrderedDict\n",
    "OrderedDict(sorted_features)"
   ]
  },
  {
   "cell_type": "markdown",
   "metadata": {},
   "source": [
    "Conclusion: For the Herlev dataset,the most important features are Nuclei features (perimeter, area, axes lengths, and intensity), plus the nucleus to cytoplasm ratio. \n",
    "Now we'll get the distributions of some of these feature values to help us distinguish from debris. "
   ]
  },
  {
   "cell_type": "code",
   "execution_count": 77,
   "metadata": {},
   "outputs": [
    {
     "name": "stdout",
     "output_type": "stream",
     "text": [
      "316.875\n"
     ]
    },
    {
     "data": {
      "image/png": "[encoded data removed]",
      "text/plain": [
       "<Figure size 432x288 with 1 Axes>"
      ]
     },
     "metadata": {
      "needs_background": "light"
     },
     "output_type": "display_data"
    }
   ],
   "source": [
    "sns.distplot(Herlev_df.Kerne_A,kde=False)\n",
    "print(Herlev_df.Kerne_A.min())"
   ]
  },
  {
   "cell_type": "code",
   "execution_count": 79,
   "metadata": {},
   "outputs": [
    {
     "name": "stdout",
     "output_type": "stream",
     "text": [
      "60.75\n"
     ]
    },
    {
     "data": {
      "image/png": "[encoded data removed]",
      "text/plain": [
       "<Figure size 432x288 with 1 Axes>"
      ]
     },
     "metadata": {
      "needs_background": "light"
     },
     "output_type": "display_data"
    }
   ],
   "source": [
    "sns.distplot(Herlev_df.KernePeri,kde=False)\n",
    "print(Herlev_df.KernePeri.min())"
   ]
  },
  {
   "cell_type": "code",
   "execution_count": 81,
   "metadata": {},
   "outputs": [
    {
     "data": {
      "text/plain": [
       "0.20109689213893966"
      ]
     },
     "execution_count": 81,
     "metadata": {},
     "output_type": "execute_result"
    },
    {
     "data": {
      "image/png": "[encoded data removed]",
      "text/plain": [
       "<Figure size 432x288 with 1 Axes>"
      ]
     },
     "metadata": {
      "needs_background": "light"
     },
     "output_type": "display_data"
    }
   ],
   "source": [
    "P2A = Herlev_df.KernePeri/Herlev_df.Kerne_A\n",
    "sns.distplot(P2A,kde=False)\n",
    "np.max(P2A)"
   ]
  },
  {
   "cell_type": "code",
   "execution_count": 83,
   "metadata": {},
   "outputs": [
    {
     "name": "stdout",
     "output_type": "stream",
     "text": [
      "19\n",
      "430\n"
     ]
    },
    {
     "data": {
      "image/png": "[encoded data removed]",
      "text/plain": [
       "<Figure size 432x288 with 1 Axes>"
      ]
     },
     "metadata": {
      "needs_background": "light"
     },
     "output_type": "display_data"
    }
   ],
   "source": [
    "sns.distplot(Herlev_df.KerneMax,kde=False)\n",
    "print(Herlev_df.KerneMax.min())\n",
    "print(Herlev_df.KerneMax.max())"
   ]
  },
  {
   "cell_type": "markdown",
   "metadata": {},
   "source": [
    "#### Sipakmed dataset"
   ]
  },
  {
   "cell_type": "code",
   "execution_count": 108,
   "metadata": {},
   "outputs": [],
   "source": [
    "sipakmed_df = pd.DataFrame()\n",
    "df2 = pd.read_table('../data/Sipakmed_existing_database/DYSKERATOTIC_CYTOPLASM_FEAT.dat',sep=',',header=None)\n",
    "df2[28] = 'cyto'\n",
    "df2[29] = 'd'\n",
    "df2[30] = 0\n",
    "sipakmed_df = pd.concat([sipakmed_df,df2])\n",
    "df2 = pd.read_table('../data/Sipakmed_existing_database/DYSKERATOTIC_NUCLEI_FEAT.dat',sep=',',header=None)\n",
    "df2[28] = 'nuc'\n",
    "df2[29] = 'd'\n",
    "df2[30] = 0\n",
    "sipakmed_df = pd.concat([sipakmed_df,df2])\n",
    "df2 = pd.read_table('../data/Sipakmed_existing_database/KOILOCYTOTIC_CYTOPLASM_FEAT.dat',sep=',',header=None)\n",
    "df2[28] = 'cyto'\n",
    "df2[29] = 'k'\n",
    "df2[30] = 0\n",
    "sipakmed_df = pd.concat([sipakmed_df,df2])\n",
    "df2 = pd.read_table('../data/Sipakmed_existing_database/KOILOCYTOTIC_NUCLEI_FEAT.dat',sep=',',header=None)\n",
    "df2[28] = 'nuc'\n",
    "df2[29] = 'k'\n",
    "df2[30] = 0\n",
    "sipakmed_df = pd.concat([sipakmed_df,df2])\n",
    "df2 = pd.read_table('../data/Sipakmed_existing_database/PARABASAL_CYTOPLASM_FEAT.dat',sep=',',header=None)\n",
    "df2[28] = 'cyto'\n",
    "df2[29] = 'p'\n",
    "df2[30] = 1\n",
    "sipakmed_df = pd.concat([sipakmed_df,df2])\n",
    "df2 = pd.read_table('../data/Sipakmed_existing_database/PARABASAL_NUCLEI_FEAT.dat',sep=',',header=None)\n",
    "df2[28] = 'nuc'\n",
    "df2[29] = 'p'\n",
    "df2[30] = 1\n",
    "sipakmed_df = pd.concat([sipakmed_df,df2])\n",
    "df2 = pd.read_table('../data/Sipakmed_existing_database/SUP_INT_CYTOPLASM_FEAT.dat',sep=',',header=None)\n",
    "df2[28] = 'cyto'\n",
    "df2[29] = 's'\n",
    "df2[30] = 1\n",
    "sipakmed_df = pd.concat([sipakmed_df,df2])\n",
    "df2 = pd.read_table('../data/Sipakmed_existing_database/SUP_INT_NUCLEI_FEAT.dat',sep=',',header=None)\n",
    "df2[28] = 'nuc'\n",
    "df2[29] = 's'\n",
    "df2[30] = 1\n",
    "sipakmed_df = pd.concat([sipakmed_df,df2])\n",
    "df2 = pd.read_table('../data/Sipakmed_existing_database/METAPLASTIC_CYTOPLASM_FEAT.dat',sep=',',header=None)\n",
    "df2[28] = 'cyto'\n",
    "df2[29] = 'm'\n",
    "df2[30] = 2\n",
    "sipakmed_df = pd.concat([sipakmed_df,df2])\n",
    "df2 = pd.read_table('../data/Sipakmed_existing_database/METAPLASTIC_NUCLEI_FEAT.dat',sep=',',header=None)\n",
    "df2[28] = 'nuc'\n",
    "df2[29] = 'm'\n",
    "df2[30] = 2\n",
    "sipakmed_df = pd.concat([sipakmed_df,df2])"
   ]
  },
  {
   "cell_type": "code",
   "execution_count": 109,
   "metadata": {},
   "outputs": [],
   "source": [
    "sipakmed_df.to_csv('../data/Sipakmed_existing_database.csv')"
   ]
  },
  {
   "cell_type": "code",
   "execution_count": 169,
   "metadata": {},
   "outputs": [
    {
     "data": {
      "image/png": "[encoded data removed]",
      "text/plain": [
       "<Figure size 432x288 with 1 Axes>"
      ]
     },
     "metadata": {
      "needs_background": "light"
     },
     "output_type": "display_data"
    },
    {
     "data": {
      "image/png": "[encoded data removed]",
      "text/plain": [
       "<Figure size 432x288 with 1 Axes>"
      ]
     },
     "metadata": {
      "needs_background": "light"
     },
     "output_type": "display_data"
    }
   ],
   "source": [
    "sns.boxplot(x=30,y=2,data=sipakmed_df[sipakmed_df[28]=='nuc'],showfliers=False)\n",
    "plt.show()\n",
    "sns.boxplot(x=30,y=9,data=sipakmed_df[sipakmed_df[28]=='nuc'],showfliers=False)\n",
    "plt.show()"
   ]
  },
  {
   "cell_type": "code",
   "execution_count": 135,
   "metadata": {},
   "outputs": [],
   "source": [
    "df_reduced = sipakmed_df[sipakmed_df[29]!='m']"
   ]
  },
  {
   "cell_type": "code",
   "execution_count": 162,
   "metadata": {},
   "outputs": [
    {
     "name": "stderr",
     "output_type": "stream",
     "text": [
      "/opt/anaconda3/envs/insight/lib/python3.7/site-packages/ipykernel_launcher.py:2: SettingWithCopyWarning: \n",
      "A value is trying to be set on a copy of a slice from a DataFrame.\n",
      "Try using .loc[row_indexer,col_indexer] = value instead\n",
      "\n",
      "See the caveats in the documentation: https://pandas.pydata.org/pandas-docs/stable/user_guide/indexing.html#returning-a-view-versus-a-copy\n",
      "  \n"
     ]
    }
   ],
   "source": [
    "df = df_reduced[df_reduced[28]=='nuc']\n",
    "df[31] = df_reduced[df_reduced[28]=='nuc'][2]/df_reduced[df_reduced[28]=='cyto'][2] # add a column that has the N/C area ratio"
   ]
  },
  {
   "cell_type": "code",
   "execution_count": 163,
   "metadata": {},
   "outputs": [],
   "source": [
    "from sklearn.model_selection import train_test_split\n",
    "X = df.drop([0,1,28,29,30],axis=1)\n",
    "y = df[30]\n",
    "X_train, X_test, y_train, y_test = train_test_split(X, y, test_size=0.30,stratify=y)"
   ]
  },
  {
   "cell_type": "code",
   "execution_count": 164,
   "metadata": {},
   "outputs": [
    {
     "data": {
      "text/plain": [
       "RandomForestClassifier(max_depth=2, random_state=0)"
      ]
     },
     "execution_count": 164,
     "metadata": {},
     "output_type": "execute_result"
    }
   ],
   "source": [
    "from sklearn.ensemble import RandomForestClassifier\n",
    "from sklearn.datasets import make_classification\n",
    "X, y = make_classification(n_samples=1000, n_features=4,n_informative=2, n_redundant=0,random_state=0, shuffle=False)\n",
    "clf = RandomForestClassifier(max_depth=2, random_state=0)\n",
    "clf.fit(X_train, y_train)\n"
   ]
  },
  {
   "cell_type": "code",
   "execution_count": 165,
   "metadata": {},
   "outputs": [
    {
     "name": "stdout",
     "output_type": "stream",
     "text": [
      "              precision    recall  f1-score   support\n",
      "\n",
      "           0       0.95      0.78      0.86       492\n",
      "           1       0.81      0.96      0.88       485\n",
      "\n",
      "    accuracy                           0.87       977\n",
      "   macro avg       0.88      0.87      0.87       977\n",
      "weighted avg       0.88      0.87      0.87       977\n",
      "\n"
     ]
    }
   ],
   "source": [
    "from sklearn.metrics import classification_report,confusion_matrix\n",
    "preds = clf.predict(X_test)\n",
    "print(classification_report(y_test,preds))"
   ]
  },
  {
   "cell_type": "code",
   "execution_count": 166,
   "metadata": {},
   "outputs": [
    {
     "data": {
      "text/plain": [
       "OrderedDict([(31, 0.21092328037230557),\n",
       "             (16, 0.1505876094121862),\n",
       "             (26, 0.12278565312790327),\n",
       "             (22, 0.11289917154819139),\n",
       "             (9, 0.0816593377655758),\n",
       "             (27, 0.0779487145468169),\n",
       "             (8, 0.06308601190720567),\n",
       "             (20, 0.03548536838766211),\n",
       "             (24, 0.033426572378719356),\n",
       "             (23, 0.028439805081092343),\n",
       "             (21, 0.014223941730001355),\n",
       "             (4, 0.010550986552305812),\n",
       "             (12, 0.009205135237878788),\n",
       "             (17, 0.009167936847522337),\n",
       "             (18, 0.008478041092078944),\n",
       "             (2, 0.006660663328550874),\n",
       "             (15, 0.006638062779574652),\n",
       "             (25, 0.004365712339253348),\n",
       "             (11, 0.0038254729933202003),\n",
       "             (3, 0.003144936501649798),\n",
       "             (7, 0.00217099134232031),\n",
       "             (19, 0.001643770993159592),\n",
       "             (10, 0.0013819602546577482),\n",
       "             (13, 0.0013008634800677381),\n",
       "             (5, 0.0),\n",
       "             (6, 0.0),\n",
       "             (14, 0.0)])"
      ]
     },
     "execution_count": 166,
     "metadata": {},
     "output_type": "execute_result"
    }
   ],
   "source": [
    "important_features_dict = {}\n",
    "for x,i in enumerate(clf.feature_importances_):\n",
    "    important_features_dict[list(X_train.keys())[x]]=i\n",
    "\n",
    "sorted_features = sorted(important_features_dict.items(), key=lambda kv: kv[1], reverse=True)\n",
    "from collections import OrderedDict\n",
    "OrderedDict(sorted_features)"
   ]
  },
  {
   "cell_type": "markdown",
   "metadata": {},
   "source": [
    "For the Sipakmed dataset, the performance is better (without fine tuning) when we include information about the cytoplasm. Also, in the EDA, we see that there isn't a clea relationship between nucleus area and normal vs abnormal class - in fact, to the extent that there is a relationship, it is the opposite of what we see in the other dataset. This might be because the sipakmed dataset contains cell images at a much earlier stage of diagnosis. "
   ]
  },
  {
   "cell_type": "code",
   "execution_count": null,
   "metadata": {},
   "outputs": [],
   "source": []
  }
 ],
 "metadata": {
  "kernelspec": {
   "display_name": "Python 3",
   "language": "python",
   "name": "python3"
  },
  "language_info": {
   "codemirror_mode": {
    "name": "ipython",
    "version": 3
   },
   "file_extension": ".py",
   "mimetype": "text/x-python",
   "name": "python",
   "nbconvert_exporter": "python",
   "pygments_lexer": "ipython3",
   "version": "3.7.9"
  }
 },
 "nbformat": 4,
 "nbformat_minor": 4
}
