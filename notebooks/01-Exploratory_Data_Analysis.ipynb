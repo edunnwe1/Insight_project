{
 "cells": [
  {
   "cell_type": "markdown",
   "metadata": {},
   "source": [
    "The purpose of this notebook is to perform exploratory analysis on the Sipakmed database. This will explore the separability of normal and abnormal cells along extractable nucleus features, as well as give insight into the expected distributions of these features"
   ]
  },
  {
   "cell_type": "code",
   "execution_count": 1,
   "metadata": {},
   "outputs": [],
   "source": [
    "import pandas as pd\n",
    "import numpy as np\n",
    "import matplotlib.pyplot as plt\n",
    "%matplotlib inline\n",
    "import seaborn as sns\n",
    "import statistics as stats\n",
    "from os import listdir\n",
    "import sys\n",
    "sys.path.append('../scripts/')\n",
    "from os import path"
   ]
  },
  {
   "cell_type": "markdown",
   "metadata": {},
   "source": [
    "#### Sipakmed dataframe"
   ]
  },
  {
   "cell_type": "code",
   "execution_count": 2,
   "metadata": {},
   "outputs": [],
   "source": [
    "if not path.exists('../data/processed/Sipakmed_existing_database.csv'):\n",
    "    from sipakmed_to_csv import sipakmed_to_csv\n",
    "    sipakmed_df = sipakmed_to_csv('../data/external/Sipakmed database features/')\n",
    "else:\n",
    "    sipakmed_df = pd.read_csv('../data/processed/Sipakmed_existing_database.csv')"
   ]
  },
  {
   "cell_type": "code",
   "execution_count": 3,
   "metadata": {
    "scrolled": true
   },
   "outputs": [
    {
     "data": {
      "text/html": [
       "<div>\n",
       "<style scoped>\n",
       "    .dataframe tbody tr th:only-of-type {\n",
       "        vertical-align: middle;\n",
       "    }\n",
       "\n",
       "    .dataframe tbody tr th {\n",
       "        vertical-align: top;\n",
       "    }\n",
       "\n",
       "    .dataframe thead th {\n",
       "        text-align: right;\n",
       "    }\n",
       "</style>\n",
       "<table border=\"1\" class=\"dataframe\">\n",
       "  <thead>\n",
       "    <tr style=\"text-align: right;\">\n",
       "      <th></th>\n",
       "      <th>Unnamed: 0</th>\n",
       "      <th>cluster_id</th>\n",
       "      <th>image_id</th>\n",
       "      <th>area</th>\n",
       "      <th>major_axis_length</th>\n",
       "      <th>minor_axis_length</th>\n",
       "      <th>eccentricity</th>\n",
       "      <th>orientation</th>\n",
       "      <th>equivalent_diameter</th>\n",
       "      <th>solidity</th>\n",
       "      <th>...</th>\n",
       "      <th>entropy-G</th>\n",
       "      <th>meanI_B</th>\n",
       "      <th>meanC_B</th>\n",
       "      <th>smooth_B</th>\n",
       "      <th>moment-3-B</th>\n",
       "      <th>uniformity-B</th>\n",
       "      <th>entropy-B</th>\n",
       "      <th>Nucleus/Cytoplasm</th>\n",
       "      <th>Class</th>\n",
       "      <th>Normal</th>\n",
       "    </tr>\n",
       "  </thead>\n",
       "  <tbody>\n",
       "    <tr>\n",
       "      <th>0</th>\n",
       "      <td>0</td>\n",
       "      <td>1</td>\n",
       "      <td>1</td>\n",
       "      <td>108300.0</td>\n",
       "      <td>394.10</td>\n",
       "      <td>363.96</td>\n",
       "      <td>0.38358</td>\n",
       "      <td>48.3380</td>\n",
       "      <td>371.34</td>\n",
       "      <td>0.94167</td>\n",
       "      <td>...</td>\n",
       "      <td>5.3828</td>\n",
       "      <td>105.69</td>\n",
       "      <td>10.8940</td>\n",
       "      <td>0.001822</td>\n",
       "      <td>0.005349</td>\n",
       "      <td>0.027627</td>\n",
       "      <td>5.4535</td>\n",
       "      <td>nuc</td>\n",
       "      <td>s</td>\n",
       "      <td>1</td>\n",
       "    </tr>\n",
       "    <tr>\n",
       "      <th>1</th>\n",
       "      <td>1</td>\n",
       "      <td>1</td>\n",
       "      <td>2</td>\n",
       "      <td>50590.0</td>\n",
       "      <td>330.71</td>\n",
       "      <td>217.29</td>\n",
       "      <td>0.75385</td>\n",
       "      <td>5.8796</td>\n",
       "      <td>253.80</td>\n",
       "      <td>0.88165</td>\n",
       "      <td>...</td>\n",
       "      <td>5.2347</td>\n",
       "      <td>115.35</td>\n",
       "      <td>10.2090</td>\n",
       "      <td>0.001600</td>\n",
       "      <td>-0.008656</td>\n",
       "      <td>0.028294</td>\n",
       "      <td>5.3459</td>\n",
       "      <td>nuc</td>\n",
       "      <td>s</td>\n",
       "      <td>1</td>\n",
       "    </tr>\n",
       "    <tr>\n",
       "      <th>2</th>\n",
       "      <td>2</td>\n",
       "      <td>1</td>\n",
       "      <td>3</td>\n",
       "      <td>95258.0</td>\n",
       "      <td>450.82</td>\n",
       "      <td>290.24</td>\n",
       "      <td>0.76518</td>\n",
       "      <td>22.9520</td>\n",
       "      <td>348.26</td>\n",
       "      <td>0.90680</td>\n",
       "      <td>...</td>\n",
       "      <td>5.0469</td>\n",
       "      <td>110.24</td>\n",
       "      <td>11.0850</td>\n",
       "      <td>0.001886</td>\n",
       "      <td>0.005759</td>\n",
       "      <td>0.025814</td>\n",
       "      <td>5.4751</td>\n",
       "      <td>nuc</td>\n",
       "      <td>s</td>\n",
       "      <td>1</td>\n",
       "    </tr>\n",
       "    <tr>\n",
       "      <th>3</th>\n",
       "      <td>3</td>\n",
       "      <td>1</td>\n",
       "      <td>4</td>\n",
       "      <td>84199.0</td>\n",
       "      <td>363.33</td>\n",
       "      <td>310.51</td>\n",
       "      <td>0.51924</td>\n",
       "      <td>-14.9310</td>\n",
       "      <td>327.42</td>\n",
       "      <td>0.91911</td>\n",
       "      <td>...</td>\n",
       "      <td>5.4830</td>\n",
       "      <td>106.27</td>\n",
       "      <td>11.2150</td>\n",
       "      <td>0.001930</td>\n",
       "      <td>0.009261</td>\n",
       "      <td>0.029336</td>\n",
       "      <td>5.4339</td>\n",
       "      <td>nuc</td>\n",
       "      <td>s</td>\n",
       "      <td>1</td>\n",
       "    </tr>\n",
       "    <tr>\n",
       "      <th>4</th>\n",
       "      <td>4</td>\n",
       "      <td>1</td>\n",
       "      <td>5</td>\n",
       "      <td>98175.0</td>\n",
       "      <td>433.48</td>\n",
       "      <td>303.43</td>\n",
       "      <td>0.71416</td>\n",
       "      <td>-22.9330</td>\n",
       "      <td>353.55</td>\n",
       "      <td>0.92263</td>\n",
       "      <td>...</td>\n",
       "      <td>4.9679</td>\n",
       "      <td>115.86</td>\n",
       "      <td>9.7206</td>\n",
       "      <td>0.001451</td>\n",
       "      <td>-0.004682</td>\n",
       "      <td>0.029976</td>\n",
       "      <td>5.2955</td>\n",
       "      <td>nuc</td>\n",
       "      <td>s</td>\n",
       "      <td>1</td>\n",
       "    </tr>\n",
       "  </tbody>\n",
       "</table>\n",
       "<p>5 rows × 32 columns</p>\n",
       "</div>"
      ],
      "text/plain": [
       "   Unnamed: 0  cluster_id  image_id      area  major_axis_length  \\\n",
       "0           0           1         1  108300.0             394.10   \n",
       "1           1           1         2   50590.0             330.71   \n",
       "2           2           1         3   95258.0             450.82   \n",
       "3           3           1         4   84199.0             363.33   \n",
       "4           4           1         5   98175.0             433.48   \n",
       "\n",
       "   minor_axis_length  eccentricity  orientation  equivalent_diameter  \\\n",
       "0             363.96       0.38358      48.3380               371.34   \n",
       "1             217.29       0.75385       5.8796               253.80   \n",
       "2             290.24       0.76518      22.9520               348.26   \n",
       "3             310.51       0.51924     -14.9310               327.42   \n",
       "4             303.43       0.71416     -22.9330               353.55   \n",
       "\n",
       "   solidity  ...  entropy-G  meanI_B  meanC_B  smooth_B  moment-3-B  \\\n",
       "0   0.94167  ...     5.3828   105.69  10.8940  0.001822    0.005349   \n",
       "1   0.88165  ...     5.2347   115.35  10.2090  0.001600   -0.008656   \n",
       "2   0.90680  ...     5.0469   110.24  11.0850  0.001886    0.005759   \n",
       "3   0.91911  ...     5.4830   106.27  11.2150  0.001930    0.009261   \n",
       "4   0.92263  ...     4.9679   115.86   9.7206  0.001451   -0.004682   \n",
       "\n",
       "   uniformity-B  entropy-B  Nucleus/Cytoplasm  Class  Normal  \n",
       "0      0.027627     5.4535                nuc      s       1  \n",
       "1      0.028294     5.3459                nuc      s       1  \n",
       "2      0.025814     5.4751                nuc      s       1  \n",
       "3      0.029336     5.4339                nuc      s       1  \n",
       "4      0.029976     5.2955                nuc      s       1  \n",
       "\n",
       "[5 rows x 32 columns]"
      ]
     },
     "execution_count": 3,
     "metadata": {},
     "output_type": "execute_result"
    }
   ],
   "source": [
    "sipakmed_df.head()"
   ]
  },
  {
   "cell_type": "markdown",
   "metadata": {},
   "source": [
    "#### Reduce the dataframe to just nuclei features, and drop 'm' class (this class is on the border of normal/abnormal)"
   ]
  },
  {
   "cell_type": "code",
   "execution_count": 4,
   "metadata": {},
   "outputs": [
    {
     "data": {
      "text/plain": [
       "array(['s', 'd', 'p', 'k'], dtype=object)"
      ]
     },
     "execution_count": 4,
     "metadata": {},
     "output_type": "execute_result"
    }
   ],
   "source": [
    "df = sipakmed_df.copy()\n",
    "df = df[df['Class']!='m']\n",
    "df = df[df['Nucleus/Cytoplasm']=='nuc']\n",
    "df['Class'].unique()"
   ]
  },
  {
   "cell_type": "markdown",
   "metadata": {},
   "source": [
    "#### Feature engineer a ratio between the major and minor axis"
   ]
  },
  {
   "cell_type": "code",
   "execution_count": 5,
   "metadata": {},
   "outputs": [],
   "source": [
    "df['major_to_minor'] = df['major_axis_length']/df['minor_axis_length']"
   ]
  },
  {
   "cell_type": "markdown",
   "metadata": {},
   "source": [
    "#### The easiest features to segment are area, eccentricity or major:minor axis ratio, extent, solidity, and the mean intensity of each channel."
   ]
  },
  {
   "cell_type": "markdown",
   "metadata": {},
   "source": [
    "Check for separability along these feature domains "
   ]
  },
  {
   "cell_type": "code",
   "execution_count": 6,
   "metadata": {},
   "outputs": [
    {
     "data": {
      "image/png": "[encoded data removed]",
      "text/plain": [
       "<Figure size 432x288 with 1 Axes>"
      ]
     },
     "metadata": {
      "needs_background": "light"
     },
     "output_type": "display_data"
    },
    {
     "data": {
      "image/png": "[encoded data removed]",
      "text/plain": [
       "<Figure size 432x288 with 1 Axes>"
      ]
     },
     "metadata": {
      "needs_background": "light"
     },
     "output_type": "display_data"
    },
    {
     "data": {
      "image/png": "[encoded data removed]",
      "text/plain": [
       "<Figure size 432x288 with 1 Axes>"
      ]
     },
     "metadata": {
      "needs_background": "light"
     },
     "output_type": "display_data"
    }
   ],
   "source": [
    "# nucleus area\n",
    "ax = sns.boxplot(x='Normal',y='area',data=df,showfliers=False)\n",
    "ax.set_title('Nucleus area abnormal vs normal')\n",
    "plt.show()\n",
    "\n",
    "# major:minor axis ratio\n",
    "ax = sns.boxplot(x='Normal',y='major_to_minor',data=df,showfliers=False)\n",
    "ax.set_title('Nucleus major:minor axis ratio abnormal vs normal')\n",
    "plt.show()\n",
    "\n",
    "# eccentricity\n",
    "ax = sns.boxplot(x='Normal',y='solidity',data=df,showfliers=False)\n",
    "ax.set_title('Nucleus solidity abnormal vs normal')\n",
    "plt.show()"
   ]
  },
  {
   "cell_type": "markdown",
   "metadata": {},
   "source": [
    "Get characteristics of the distributions of these features to guide subsequent feature segmentation. We want to filter out debris that is smaller than the minimum nucleus size, and debris that is too elliptical"
   ]
  },
  {
   "cell_type": "code",
   "execution_count": 8,
   "metadata": {},
   "outputs": [
    {
     "name": "stdout",
     "output_type": "stream",
     "text": [
      "Minimum nucleus size:590.0\n"
     ]
    },
    {
     "data": {
      "image/png": "[encoded data removed]",
      "text/plain": [
       "<Figure size 360x360 with 1 Axes>"
      ]
     },
     "metadata": {
      "needs_background": "light"
     },
     "output_type": "display_data"
    }
   ],
   "source": [
    "# nucleus area\n",
    "ax = sns.displot(df['area'],kde=False)\n",
    "print('Minimum nucleus size:{}'.format(df['area'].min()))"
   ]
  },
  {
   "cell_type": "code",
   "execution_count": 9,
   "metadata": {},
   "outputs": [
    {
     "data": {
      "image/png": "[encoded data removed]",
      "text/plain": [
       "<Figure size 360x360 with 1 Axes>"
      ]
     },
     "metadata": {
      "needs_background": "light"
     },
     "output_type": "display_data"
    }
   ],
   "source": [
    "# eccentricity\n",
    "ax = sns.displot(df['eccentricity'],kde=False)"
   ]
  },
  {
   "cell_type": "code",
   "execution_count": 10,
   "metadata": {},
   "outputs": [
    {
     "name": "stdout",
     "output_type": "stream",
     "text": [
      "Expected range = 2.78436901026491\n"
     ]
    },
    {
     "data": {
      "image/png": "[encoded data removed]",
      "text/plain": [
       "<Figure size 360x360 with 1 Axes>"
      ]
     },
     "metadata": {
      "needs_background": "light"
     },
     "output_type": "display_data"
    }
   ],
   "source": [
    "# major: minor axis ratio\n",
    "ax = sns.displot(df['major_to_minor'],kde=False)\n",
    "print('Expected range = {}'.format(np.mean(df['major_to_minor']) + np.sqrt(np.mean(df['major_to_minor'])))) # poisson assumption"
   ]
  },
  {
   "cell_type": "code",
   "execution_count": 11,
   "metadata": {},
   "outputs": [
    {
     "name": "stdout",
     "output_type": "stream",
     "text": [
      "Minimum solidity:0.35799000000000003\n"
     ]
    },
    {
     "data": {
      "image/png": "[encoded data removed]",
      "text/plain": [
       "<Figure size 360x360 with 1 Axes>"
      ]
     },
     "metadata": {
      "needs_background": "light"
     },
     "output_type": "display_data"
    }
   ],
   "source": [
    "# solidity\n",
    "ax = sns.displot(df['solidity'],kde=False)\n",
    "print('Minimum solidity:{}'.format(df['solidity'].min()))"
   ]
  },
  {
   "cell_type": "code",
   "execution_count": 12,
   "metadata": {},
   "outputs": [],
   "source": [
    "df.to_csv('../data/processed/Sipakmed_nuclei_database.csv')"
   ]
  }
 ],
 "metadata": {
  "kernelspec": {
   "display_name": "Python 3",
   "language": "python",
   "name": "python3"
  },
  "language_info": {
   "codemirror_mode": {
    "name": "ipython",
    "version": 3
   },
   "file_extension": ".py",
   "mimetype": "text/x-python",
   "name": "python",
   "nbconvert_exporter": "python",
   "pygments_lexer": "ipython3",
   "version": "3.7.9"
  }
 },
 "nbformat": 4,
 "nbformat_minor": 4
}
